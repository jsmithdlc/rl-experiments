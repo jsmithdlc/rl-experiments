{
 "cells": [
  {
   "cell_type": "code",
   "execution_count": null,
   "metadata": {},
   "outputs": [],
   "source": [
    "import gymnasium\n",
    "\n",
    "from stable_baselines3 import PPO\n",
    "from stable_baselines3.common.env_util import make_vec_env\n",
    "from stable_baselines3.common.evaluation import evaluate_policy\n",
    "from stable_baselines3.common.monitor import Monitor"
   ]
  },
  {
   "cell_type": "markdown",
   "metadata": {},
   "source": [
    "## Learning Environment\n",
    "\n",
    "Understanding how Gymnasium library works. It's useful for its environments in which RL can be tested out."
   ]
  },
  {
   "cell_type": "code",
   "execution_count": null,
   "metadata": {},
   "outputs": [],
   "source": [
    "import gymnasium as gym\n",
    "\n",
    "# create environment\n",
    "env = gym.make(\"LunarLander-v2\")\n",
    "\n",
    "env.reset()\n",
    "\n",
    "print(\"_____OBSERVATION SPACE_____ \\n\")\n",
    "print(\"Observation Space Shape\", env.observation_space.shape)\n",
    "print(\"Sample observation\", env.observation_space.sample())  # Get a random observation"
   ]
  },
  {
   "cell_type": "code",
   "execution_count": null,
   "metadata": {},
   "outputs": [],
   "source": [
    "print(\"\\n _____ACTION SPACE_____ \\n\")\n",
    "print(\"Action Space Shape\", env.action_space.n)\n",
    "print(\"Action Space Sample\", env.action_space.sample())  # Take a random action"
   ]
  },
  {
   "cell_type": "code",
   "execution_count": null,
   "metadata": {},
   "outputs": [],
   "source": [
    "# reset environment\n",
    "observation, info = env.reset()\n",
    "\n",
    "for _ in range(20):\n",
    "    # take random action\n",
    "    action = env.action_space.sample()\n",
    "    print(\"Action taken: \",action)\n",
    "\n",
    "    # perform this action in environment and retrieve info\n",
    "    observation, reward, terminated, truncated, info = env.step(action)\n",
    "\n",
    "    # if the game terminated, stop environment\n",
    "    if terminated or truncated:\n",
    "        # reset env\n",
    "        print(\"Environment reset\")\n",
    "        observation, info = env.reset()\n",
    "\n",
    "env.close()"
   ]
  },
  {
   "cell_type": "markdown",
   "metadata": {},
   "source": [
    "Create a vectorized environment, where we can stack multiple independent environments into a single one. This way we can create more diverse experiences during training"
   ]
  },
  {
   "cell_type": "code",
   "execution_count": null,
   "metadata": {},
   "outputs": [],
   "source": [
    "# Create the environment\n",
    "env = make_vec_env(\"LunarLander-v2\", n_envs=16)"
   ]
  },
  {
   "cell_type": "markdown",
   "metadata": {},
   "source": [
    "## Modeling\n",
    "\n",
    "Using StableBaselines3, PPO will be our model. PPO combines value-based RL and policy-based RL."
   ]
  },
  {
   "cell_type": "code",
   "execution_count": null,
   "metadata": {},
   "outputs": [],
   "source": [
    "from stable_baselines3 import PPO\n",
    "\n",
    "# instantiate agent\n",
    "model = PPO('MlpPolicy',env,n_steps=1024,batch_size=64,n_epochs=4,gamma=0.999,gae_lambda=0.98,ent_coef=0.01,verbose=1)"
   ]
  },
  {
   "cell_type": "code",
   "execution_count": null,
   "metadata": {},
   "outputs": [],
   "source": [
    "save_path = \"../exp/ppo-LunarLander-v2\"\n",
    "\n",
    "# train the model\n",
    "model.learn(total_timesteps = 1e6,progress_bar=True)\n",
    "\n",
    "# save model\n",
    "model.save(save_path)"
   ]
  },
  {
   "cell_type": "markdown",
   "metadata": {},
   "source": [
    "## Evaluation\n",
    "\n",
    "After training the model, we can evaluate it and print the mean performance. For this purpose, we create a new environment."
   ]
  },
  {
   "cell_type": "code",
   "execution_count": 1,
   "metadata": {},
   "outputs": [
    {
     "name": "stdout",
     "output_type": "stream",
     "text": [
      "Mean reward: 262.12135 | Std reward: 22.212599357883985\n"
     ]
    }
   ],
   "source": [
    "import gymnasium as gym\n",
    "\n",
    "from stable_baselines3 import PPO\n",
    "from stable_baselines3.common.evaluation import evaluate_policy\n",
    "from stable_baselines3.common.monitor import Monitor\n",
    "\n",
    "save_path = \"../exp/ppo-LunarLander-v2\"\n",
    "\n",
    "# load model\n",
    "model = PPO.load(save_path)\n",
    "\n",
    "# create new environment for evaluation\n",
    "eval_env = Monitor(gym.make(\"LunarLander-v2\"))\n",
    "\n",
    "# evaluate over 10 episodes with rendering\n",
    "mean_reward, std_reward = evaluate_policy(model, eval_env,n_eval_episodes=10,deterministic=True, render=False)\n",
    "print(f\"Mean reward: {mean_reward} | Std reward: {std_reward}\")\n",
    "\n",
    "# close render window and env\n",
    "eval_env.close()"
   ]
  },
  {
   "cell_type": "markdown",
   "metadata": {},
   "source": [
    "## Push Model to Hub\n",
    "\n",
    "This model can be pushed to Hugging Face hub, where users can interact with it, download it and see associated metadata."
   ]
  },
  {
   "cell_type": "code",
   "execution_count": 2,
   "metadata": {},
   "outputs": [
    {
     "data": {
      "application/vnd.jupyter.widget-view+json": {
       "model_id": "5da510b2f1dc4ea1bf4b658397366294",
       "version_major": 2,
       "version_minor": 0
      },
      "text/plain": [
       "VBox(children=(HTML(value='<center> <img\\nsrc=https://huggingface.co/front/assets/huggingface_logo-noborder.sv…"
      ]
     },
     "metadata": {},
     "output_type": "display_data"
    }
   ],
   "source": [
    "from huggingface_hub import notebook_login # To log to our Hugging Face account to be able to upload models to the Hub.\n",
    "\n",
    "notebook_login()\n",
    "!git config --global credential.helper store"
   ]
  },
  {
   "cell_type": "code",
   "execution_count": 3,
   "metadata": {},
   "outputs": [
    {
     "name": "stdout",
     "output_type": "stream",
     "text": [
      "\u001b[38;5;4mℹ This function will save, evaluate, generate a video of your agent,\n",
      "create a model card and push everything to the hub. It might take up to 1min.\n",
      "This is a work in progress: if you encounter a bug, please open an issue.\u001b[0m\n"
     ]
    },
    {
     "name": "stderr",
     "output_type": "stream",
     "text": [
      "/home/javier/.cache/pypoetry/virtualenvs/rl-experiments-r-JsmOJR-py3.10/lib/python3.10/site-packages/stable_baselines3/common/evaluation.py:67: UserWarning: Evaluation environment is not wrapped with a ``Monitor`` wrapper. This may result in reporting modified episode lengths and rewards, if other wrappers happen to modify these. Consider wrapping environment first with ``Monitor`` wrapper.\n",
      "  warnings.warn(\n"
     ]
    },
    {
     "name": "stdout",
     "output_type": "stream",
     "text": [
      "Saving video to /tmp/tmp2k_6sgyf/-step-0-to-step-1000.mp4\n",
      "Moviepy - Building video /tmp/tmp2k_6sgyf/-step-0-to-step-1000.mp4.\n",
      "Moviepy - Writing video /tmp/tmp2k_6sgyf/-step-0-to-step-1000.mp4\n",
      "\n"
     ]
    },
    {
     "name": "stderr",
     "output_type": "stream",
     "text": [
      "                                                                \r"
     ]
    },
    {
     "name": "stdout",
     "output_type": "stream",
     "text": [
      "Moviepy - Done !\n",
      "Moviepy - video ready /tmp/tmp2k_6sgyf/-step-0-to-step-1000.mp4\n"
     ]
    },
    {
     "name": "stderr",
     "output_type": "stream",
     "text": [
      "ffmpeg version 4.4.2-0ubuntu0.22.04.1 Copyright (c) 2000-2021 the FFmpeg developers\n",
      "  built with gcc 11 (Ubuntu 11.2.0-19ubuntu1)\n",
      "  configuration: --prefix=/usr --extra-version=0ubuntu0.22.04.1 --toolchain=hardened --libdir=/usr/lib/x86_64-linux-gnu --incdir=/usr/include/x86_64-linux-gnu --arch=amd64 --enable-gpl --disable-stripping --enable-gnutls --enable-ladspa --enable-libaom --enable-libass --enable-libbluray --enable-libbs2b --enable-libcaca --enable-libcdio --enable-libcodec2 --enable-libdav1d --enable-libflite --enable-libfontconfig --enable-libfreetype --enable-libfribidi --enable-libgme --enable-libgsm --enable-libjack --enable-libmp3lame --enable-libmysofa --enable-libopenjpeg --enable-libopenmpt --enable-libopus --enable-libpulse --enable-librabbitmq --enable-librubberband --enable-libshine --enable-libsnappy --enable-libsoxr --enable-libspeex --enable-libsrt --enable-libssh --enable-libtheora --enable-libtwolame --enable-libvidstab --enable-libvorbis --enable-libvpx --enable-libwebp --enable-libx265 --enable-libxml2 --enable-libxvid --enable-libzimg --enable-libzmq --enable-libzvbi --enable-lv2 --enable-omx --enable-openal --enable-opencl --enable-opengl --enable-sdl2 --enable-pocketsphinx --enable-librsvg --enable-libmfx --enable-libdc1394 --enable-libdrm --enable-libiec61883 --enable-chromaprint --enable-frei0r --enable-libx264 --enable-shared\n",
      "  libavutil      56. 70.100 / 56. 70.100\n",
      "  libavcodec     58.134.100 / 58.134.100\n",
      "  libavformat    58. 76.100 / 58. 76.100\n",
      "  libavdevice    58. 13.100 / 58. 13.100\n",
      "  libavfilter     7.110.100 /  7.110.100\n",
      "  libswscale      5.  9.100 /  5.  9.100\n",
      "  libswresample   3.  9.100 /  3.  9.100\n",
      "  libpostproc    55.  9.100 / 55.  9.100\n",
      "Input #0, mov,mp4,m4a,3gp,3g2,mj2, from '/tmp/tmp2k_6sgyf/-step-0-to-step-1000.mp4':\n",
      "  Metadata:\n",
      "    major_brand     : isom\n",
      "    minor_version   : 512\n",
      "    compatible_brands: isomiso2avc1mp41\n",
      "    encoder         : Lavf58.29.100\n",
      "  Duration: 00:00:20.02, start: 0.000000, bitrate: 65 kb/s\n",
      "  Stream #0:0(und): Video: h264 (High) (avc1 / 0x31637661), yuv420p, 600x400, 60 kb/s, 50 fps, 50 tbr, 12800 tbn, 100 tbc (default)\n",
      "    Metadata:\n",
      "      handler_name    : VideoHandler\n",
      "      vendor_id       : [0][0][0][0]\n",
      "Stream mapping:\n",
      "  Stream #0:0 -> #0:0 (h264 (native) -> h264 (libx264))\n",
      "Press [q] to stop, [?] for help\n",
      "[libx264 @ 0x55c616eeabc0] using cpu capabilities: MMX2 SSE2Fast SSSE3 SSE4.2 AVX FMA3 BMI2 AVX2\n",
      "[libx264 @ 0x55c616eeabc0] profile High, level 3.1, 4:2:0, 8-bit\n",
      "[libx264 @ 0x55c616eeabc0] 264 - core 163 r3060 5db6aa6 - H.264/MPEG-4 AVC codec - Copyleft 2003-2021 - http://www.videolan.org/x264.html - options: cabac=1 ref=3 deblock=1:0:0 analyse=0x3:0x113 me=hex subme=7 psy=1 psy_rd=1.00:0.00 mixed_ref=1 me_range=16 chroma_me=1 trellis=1 8x8dct=1 cqm=0 deadzone=21,11 fast_pskip=1 chroma_qp_offset=-2 threads=12 lookahead_threads=2 sliced_threads=0 nr=0 decimate=1 interlaced=0 bluray_compat=0 constrained_intra=0 bframes=3 b_pyramid=2 b_adapt=1 b_bias=0 direct=1 weightb=1 open_gop=0 weightp=2 keyint=250 keyint_min=25 scenecut=40 intra_refresh=0 rc_lookahead=40 rc=crf mbtree=1 crf=23.0 qcomp=0.60 qpmin=0 qpmax=69 qpstep=4 ip_ratio=1.40 aq=1:1.00\n",
      "Output #0, mp4, to '/tmp/tmpear2aegb/replay.mp4':\n",
      "  Metadata:\n",
      "    major_brand     : isom\n",
      "    minor_version   : 512\n",
      "    compatible_brands: isomiso2avc1mp41\n",
      "    encoder         : Lavf58.76.100\n",
      "  Stream #0:0(und): Video: h264 (avc1 / 0x31637661), yuv420p(progressive), 600x400, q=2-31, 50 fps, 12800 tbn (default)\n",
      "    Metadata:\n",
      "      handler_name    : VideoHandler\n",
      "      vendor_id       : [0][0][0][0]\n",
      "      encoder         : Lavc58.134.100 libx264\n",
      "    Side data:\n",
      "      cpb: bitrate max/min/avg: 0/0/0 buffer size: 0 vbv_delay: N/A\n",
      "frame= 1001 fps=0.0 q=-1.0 Lsize=     152kB time=00:00:19.96 bitrate=  62.4kbits/s speed=23.5x    \n",
      "video:140kB audio:0kB subtitle:0kB other streams:0kB global headers:0kB muxing overhead: 8.958460%\n",
      "[libx264 @ 0x55c616eeabc0] frame I:5     Avg QP: 9.63  size:  2079\n",
      "[libx264 @ 0x55c616eeabc0] frame P:256   Avg QP:21.24  size:   205\n",
      "[libx264 @ 0x55c616eeabc0] frame B:740   Avg QP:23.98  size:   107\n",
      "[libx264 @ 0x55c616eeabc0] consecutive B-frames:  0.7%  1.4%  2.4% 95.5%\n",
      "[libx264 @ 0x55c616eeabc0] mb I  I16..4: 82.7% 10.8%  6.4%\n",
      "[libx264 @ 0x55c616eeabc0] mb P  I16..4:  0.2%  0.3%  0.1%  P16..4:  1.5%  0.5%  0.2%  0.0%  0.0%    skip:97.2%\n",
      "[libx264 @ 0x55c616eeabc0] mb B  I16..4:  0.0%  0.0%  0.0%  B16..8:  2.2%  0.3%  0.0%  direct: 0.1%  skip:97.3%  L0:52.4% L1:46.4% BI: 1.3%\n",
      "[libx264 @ 0x55c616eeabc0] 8x8 transform intra:21.3% inter:17.1%\n",
      "[libx264 @ 0x55c616eeabc0] coded y,uvDC,uvAC intra: 6.9% 10.6% 9.7% inter: 0.2% 0.2% 0.2%\n",
      "[libx264 @ 0x55c616eeabc0] i16 v,h,dc,p: 85% 10%  5%  0%\n",
      "[libx264 @ 0x55c616eeabc0] i8 v,h,dc,ddl,ddr,vr,hd,vl,hu: 16% 13% 71%  0%  0%  0%  0%  0%  0%\n",
      "[libx264 @ 0x55c616eeabc0] i4 v,h,dc,ddl,ddr,vr,hd,vl,hu: 14% 16% 58%  2%  3%  1%  3%  1%  3%\n",
      "[libx264 @ 0x55c616eeabc0] i8c dc,h,v,p: 92%  5%  3%  0%\n",
      "[libx264 @ 0x55c616eeabc0] Weighted P-Frames: Y:0.0% UV:0.0%\n",
      "[libx264 @ 0x55c616eeabc0] ref P L0: 63.4%  2.3% 22.1% 12.2%\n",
      "[libx264 @ 0x55c616eeabc0] ref B L0: 70.7% 24.2%  5.1%\n",
      "[libx264 @ 0x55c616eeabc0] ref B L1: 92.3%  7.7%\n",
      "[libx264 @ 0x55c616eeabc0] kb/s:56.86\n"
     ]
    },
    {
     "name": "stdout",
     "output_type": "stream",
     "text": [
      "\u001b[38;5;4mℹ Pushing repo jsmithdlc/ppo-lunarlander-v2 to the Hugging Face Hub\u001b[0m\n"
     ]
    },
    {
     "data": {
      "application/vnd.jupyter.widget-view+json": {
       "model_id": "e992686b02ec4ab6adfc88286b9c5d93",
       "version_major": 2,
       "version_minor": 0
      },
      "text/plain": [
       "ppo-lunarlander-v2.zip:   0%|          | 0.00/147k [00:00<?, ?B/s]"
      ]
     },
     "metadata": {},
     "output_type": "display_data"
    },
    {
     "name": "stdout",
     "output_type": "stream",
     "text": [
      "\u001b[38;5;4mℹ Your model is pushed to the Hub. You can view your model here:\n",
      "https://huggingface.co/jsmithdlc/ppo-lunarlander-v2/tree/main/\u001b[0m\n"
     ]
    },
    {
     "data": {
      "text/plain": [
       "'https://huggingface.co/jsmithdlc/ppo-lunarlander-v2/tree/main/'"
      ]
     },
     "execution_count": 3,
     "metadata": {},
     "output_type": "execute_result"
    }
   ],
   "source": [
    "import gymnasium as gym\n",
    "from stable_baselines3.common.vec_env import DummyVecEnv\n",
    "from stable_baselines3.common.env_util import make_vec_env\n",
    "\n",
    "from huggingface_sb3 import package_to_hub\n",
    "\n",
    "# remote location for the model\n",
    "repo_id = 'jsmithdlc/ppo-lunarlander-v2'\n",
    "\n",
    "# environment in which the model was trained\n",
    "env_id = 'LunarLander-v2'\n",
    "\n",
    "# evaluation env and render mode with rgb_array\n",
    "eval_env = DummyVecEnv([lambda: gym.make(env_id,render_mode='rgb_array')])\n",
    "\n",
    "# model architecture copied from above\n",
    "model_architecture = \"PPO\"\n",
    "\n",
    "commit_message = 'lunar lander PPO from hugging face deep RL tutorial'\n",
    "\n",
    "model_name = 'ppo-lunarlander-v2'\n",
    "\n",
    "# save, evaluate, generate a model card and record a replay video of your agent before pushing the repo to the hub\n",
    "package_to_hub(model=model, # Our trained model\n",
    "               model_name=model_name, # The name of our trained model \n",
    "               model_architecture=model_architecture, # The model architecture we used: in our case PPO\n",
    "               env_id=env_id, # Name of the environment\n",
    "               eval_env=eval_env, # Evaluation Environment\n",
    "               repo_id=repo_id, # id of the model repository from the Hugging Face Hub (repo_id = {organization}/{repo_name} for instance ThomasSimonini/ppo-LunarLander-v2\n",
    "               commit_message=commit_message)"
   ]
  },
  {
   "cell_type": "code",
   "execution_count": null,
   "metadata": {},
   "outputs": [],
   "source": []
  }
 ],
 "metadata": {
  "kernelspec": {
   "display_name": "rl-experiments-r-JsmOJR-py3.10",
   "language": "python",
   "name": "python3"
  },
  "language_info": {
   "codemirror_mode": {
    "name": "ipython",
    "version": 3
   },
   "file_extension": ".py",
   "mimetype": "text/x-python",
   "name": "python",
   "nbconvert_exporter": "python",
   "pygments_lexer": "ipython3",
   "version": "3.10.12"
  }
 },
 "nbformat": 4,
 "nbformat_minor": 2
}
